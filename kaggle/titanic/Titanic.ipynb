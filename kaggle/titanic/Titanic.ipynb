{
 "cells": [
  {
   "cell_type": "code",
   "execution_count": 2,
   "metadata": {},
   "outputs": [
    {
     "data": {
      "text/html": [
       "<div>\n",
       "<style scoped>\n",
       "    .dataframe tbody tr th:only-of-type {\n",
       "        vertical-align: middle;\n",
       "    }\n",
       "\n",
       "    .dataframe tbody tr th {\n",
       "        vertical-align: top;\n",
       "    }\n",
       "\n",
       "    .dataframe thead th {\n",
       "        text-align: right;\n",
       "    }\n",
       "</style>\n",
       "<table border=\"1\" class=\"dataframe\">\n",
       "  <thead>\n",
       "    <tr style=\"text-align: right;\">\n",
       "      <th></th>\n",
       "      <th>PassengerId</th>\n",
       "      <th>Survived</th>\n",
       "      <th>Pclass</th>\n",
       "      <th>Name</th>\n",
       "      <th>Sex</th>\n",
       "      <th>Age</th>\n",
       "      <th>SibSp</th>\n",
       "      <th>Parch</th>\n",
       "      <th>Ticket</th>\n",
       "      <th>Fare</th>\n",
       "      <th>Cabin</th>\n",
       "      <th>Embarked</th>\n",
       "    </tr>\n",
       "  </thead>\n",
       "  <tbody>\n",
       "    <tr>\n",
       "      <th>0</th>\n",
       "      <td>1</td>\n",
       "      <td>0</td>\n",
       "      <td>3</td>\n",
       "      <td>Braund, Mr. Owen Harris</td>\n",
       "      <td>male</td>\n",
       "      <td>22.0</td>\n",
       "      <td>1</td>\n",
       "      <td>0</td>\n",
       "      <td>A/5 21171</td>\n",
       "      <td>7.2500</td>\n",
       "      <td>NaN</td>\n",
       "      <td>S</td>\n",
       "    </tr>\n",
       "    <tr>\n",
       "      <th>1</th>\n",
       "      <td>2</td>\n",
       "      <td>1</td>\n",
       "      <td>1</td>\n",
       "      <td>Cumings, Mrs. John Bradley (Florence Briggs Th...</td>\n",
       "      <td>female</td>\n",
       "      <td>38.0</td>\n",
       "      <td>1</td>\n",
       "      <td>0</td>\n",
       "      <td>PC 17599</td>\n",
       "      <td>71.2833</td>\n",
       "      <td>C85</td>\n",
       "      <td>C</td>\n",
       "    </tr>\n",
       "    <tr>\n",
       "      <th>2</th>\n",
       "      <td>3</td>\n",
       "      <td>1</td>\n",
       "      <td>3</td>\n",
       "      <td>Heikkinen, Miss. Laina</td>\n",
       "      <td>female</td>\n",
       "      <td>26.0</td>\n",
       "      <td>0</td>\n",
       "      <td>0</td>\n",
       "      <td>STON/O2. 3101282</td>\n",
       "      <td>7.9250</td>\n",
       "      <td>NaN</td>\n",
       "      <td>S</td>\n",
       "    </tr>\n",
       "    <tr>\n",
       "      <th>3</th>\n",
       "      <td>4</td>\n",
       "      <td>1</td>\n",
       "      <td>1</td>\n",
       "      <td>Futrelle, Mrs. Jacques Heath (Lily May Peel)</td>\n",
       "      <td>female</td>\n",
       "      <td>35.0</td>\n",
       "      <td>1</td>\n",
       "      <td>0</td>\n",
       "      <td>113803</td>\n",
       "      <td>53.1000</td>\n",
       "      <td>C123</td>\n",
       "      <td>S</td>\n",
       "    </tr>\n",
       "    <tr>\n",
       "      <th>4</th>\n",
       "      <td>5</td>\n",
       "      <td>0</td>\n",
       "      <td>3</td>\n",
       "      <td>Allen, Mr. William Henry</td>\n",
       "      <td>male</td>\n",
       "      <td>35.0</td>\n",
       "      <td>0</td>\n",
       "      <td>0</td>\n",
       "      <td>373450</td>\n",
       "      <td>8.0500</td>\n",
       "      <td>NaN</td>\n",
       "      <td>S</td>\n",
       "    </tr>\n",
       "  </tbody>\n",
       "</table>\n",
       "</div>"
      ],
      "text/plain": [
       "   PassengerId  Survived  Pclass  \\\n",
       "0            1         0       3   \n",
       "1            2         1       1   \n",
       "2            3         1       3   \n",
       "3            4         1       1   \n",
       "4            5         0       3   \n",
       "\n",
       "                                                Name     Sex   Age  SibSp  \\\n",
       "0                            Braund, Mr. Owen Harris    male  22.0      1   \n",
       "1  Cumings, Mrs. John Bradley (Florence Briggs Th...  female  38.0      1   \n",
       "2                             Heikkinen, Miss. Laina  female  26.0      0   \n",
       "3       Futrelle, Mrs. Jacques Heath (Lily May Peel)  female  35.0      1   \n",
       "4                           Allen, Mr. William Henry    male  35.0      0   \n",
       "\n",
       "   Parch            Ticket     Fare Cabin Embarked  \n",
       "0      0         A/5 21171   7.2500   NaN        S  \n",
       "1      0          PC 17599  71.2833   C85        C  \n",
       "2      0  STON/O2. 3101282   7.9250   NaN        S  \n",
       "3      0            113803  53.1000  C123        S  \n",
       "4      0            373450   8.0500   NaN        S  "
      ]
     },
     "execution_count": 2,
     "metadata": {},
     "output_type": "execute_result"
    }
   ],
   "source": [
    "import numpy as np\n",
    "import pandas as pd\n",
    "\n",
    "train_file = pd.read_csv('train.csv')\n",
    "train_file.head()"
   ]
  },
  {
   "cell_type": "code",
   "execution_count": 3,
   "metadata": {},
   "outputs": [
    {
     "name": "stdout",
     "output_type": "stream",
     "text": [
      "   Pclass     Sex   Age  SibSp  Parch Embarked\n",
      "0       3    male  22.0      1      0        S\n",
      "1       1  female  38.0      1      0        C\n",
      "2       3  female  26.0      0      0        S\n",
      "3       1  female  35.0      1      0        S\n",
      "4       3    male  35.0      0      0        S\n"
     ]
    }
   ],
   "source": [
    "# colunas utilizáveis\n",
    "y = train_file[['Survived']]\n",
    "x = train_file[['Pclass', 'Sex', 'Age', 'SibSp', 'Parch', 'Embarked']]\n",
    "\n",
    "print(x.head())"
   ]
  },
  {
   "cell_type": "code",
   "execution_count": 5,
   "metadata": {},
   "outputs": [
    {
     "name": "stdout",
     "output_type": "stream",
     "text": [
      "Index(['Age', 'Embarked'], dtype='object')\n"
     ]
    }
   ],
   "source": [
    "#colunas faltando dado\n",
    "cols_with_missing = x.columns[x.isnull().any()]\n",
    "\n",
    "print(cols_with_missing)"
   ]
  },
  {
   "cell_type": "code",
   "execution_count": 9,
   "metadata": {},
   "outputs": [
    {
     "name": "stdout",
     "output_type": "stream",
     "text": [
      "Index([], dtype='object')\n",
      "   Pclass     Sex   Age  SibSp  Parch Embarked\n",
      "0       3    male  22.0      1      0        S\n",
      "1       1  female  38.0      1      0        C\n",
      "2       3  female  26.0      0      0        S\n",
      "3       1  female  35.0      1      0        S\n",
      "4       3    male  35.0      0      0        S\n"
     ]
    }
   ],
   "source": [
    "# tratamento de NaN\n",
    "x_nan = x.fillna(0)\n",
    "\n",
    "cols_with_missing2 = x_nan.columns[x_nan.isnull().any()]\n",
    "print(cols_with_missing2)\n",
    "\n",
    "print(x_nan.head())"
   ]
  },
  {
   "cell_type": "code",
   "execution_count": 10,
   "metadata": {},
   "outputs": [
    {
     "name": "stdout",
     "output_type": "stream",
     "text": [
      "   Pclass     Sex   Age  SibSp  Parch Embarked  family_number\n",
      "0       3    male  22.0      1      0        S              2\n",
      "1       1  female  38.0      1      0        C              2\n",
      "2       3  female  26.0      0      0        S              1\n",
      "3       1  female  35.0      1      0        S              2\n",
      "4       3    male  35.0      0      0        S              1\n"
     ]
    }
   ],
   "source": [
    "x2 = x_nan.copy()\n",
    "\n",
    "#add number of memeber families including the one \n",
    "x2['family_number'] = x_nan.SibSp + x_nan.Parch + 1\n",
    "\n",
    "print(x2.head())"
   ]
  },
  {
   "cell_type": "code",
   "execution_count": 11,
   "metadata": {},
   "outputs": [
    {
     "name": "stdout",
     "output_type": "stream",
     "text": [
      "   Pclass  Sex   Age  SibSp  Parch  Embarked  family_number\n",
      "0       3    1  22.0      1      0         3              2\n",
      "1       1    0  38.0      1      0         1              2\n",
      "2       3    0  26.0      0      0         3              1\n",
      "3       1    0  35.0      1      0         3              2\n",
      "4       3    1  35.0      0      0         3              1\n"
     ]
    }
   ],
   "source": [
    "# transformar em variaveis de categoria\n",
    "from sklearn.preprocessing import LabelEncoder, OneHotEncoder\n",
    "\n",
    "label_x = x2.copy()\n",
    "sex_label_encoder = LabelEncoder()\n",
    "embarked_label_encoder = LabelEncoder()\n",
    "label_x['Sex'] = sex_label_encoder.fit_transform(x2['Sex'].astype(str))\n",
    "label_x['Embarked'] = embarked_label_encoder.fit_transform(x2['Embarked'].astype(str))\n",
    "\n",
    "print(label_x.head())"
   ]
  },
  {
   "cell_type": "code",
   "execution_count": 14,
   "metadata": {},
   "outputs": [
    {
     "name": "stdout",
     "output_type": "stream",
     "text": [
      "     0    1    2    3    4    5\n",
      "0  0.0  1.0  0.0  0.0  0.0  1.0\n",
      "1  1.0  0.0  0.0  1.0  0.0  0.0\n",
      "2  1.0  0.0  0.0  0.0  0.0  1.0\n",
      "3  1.0  0.0  0.0  0.0  0.0  1.0\n",
      "4  0.0  1.0  0.0  0.0  0.0  1.0\n"
     ]
    }
   ],
   "source": [
    "hot_enconder = OneHotEncoder(handle_unknown='ignore', sparse=False)\n",
    "\n",
    "cols_ohe = pd.DataFrame( hot_enconder.fit_transform(label_x[['Sex', 'Embarked']] ))\n",
    "cols_ohe.index = label_x.index\n",
    "\n",
    "print(cols_ohe.head())\n"
   ]
  },
  {
   "cell_type": "code",
   "execution_count": 15,
   "metadata": {},
   "outputs": [
    {
     "name": "stdout",
     "output_type": "stream",
     "text": [
      "   Pclass   Age  SibSp  Parch  family_number\n",
      "0       3  22.0      1      0              2\n",
      "1       1  38.0      1      0              2\n",
      "2       3  26.0      0      0              1\n",
      "3       1  35.0      1      0              2\n",
      "4       3  35.0      0      0              1\n",
      "   Pclass   Age  SibSp  Parch  family_number    0    1    2    3    4    5\n",
      "0       3  22.0      1      0              2  0.0  1.0  0.0  0.0  0.0  1.0\n",
      "1       1  38.0      1      0              2  1.0  0.0  0.0  1.0  0.0  0.0\n",
      "2       3  26.0      0      0              1  1.0  0.0  0.0  0.0  0.0  1.0\n",
      "3       1  35.0      1      0              2  1.0  0.0  0.0  0.0  0.0  1.0\n",
      "4       3  35.0      0      0              1  0.0  1.0  0.0  0.0  0.0  1.0\n"
     ]
    }
   ],
   "source": [
    "x_OH = label_x.drop(['Sex', 'Embarked'], axis=1) \n",
    "print(x_OH.head())\n",
    "\n",
    "x_OH = pd.concat([x_OH, cols_ohe], axis=1)\n",
    "print(x_OH.head())\n"
   ]
  },
  {
   "cell_type": "code",
   "execution_count": 38,
   "metadata": {},
   "outputs": [],
   "source": [
    "\n",
    "from sklearn.preprocessing import StandardScaler\n",
    "\n",
    "sc_X = StandardScaler()\n",
    "x_train = sc_X.fit_transform(x_OH)"
   ]
  },
  {
   "cell_type": "code",
   "execution_count": 39,
   "metadata": {},
   "outputs": [
    {
     "name": "stdout",
     "output_type": "stream",
     "text": [
      "Fitting 5 folds for each of 8 candidates, totalling 40 fits\n"
     ]
    },
    {
     "name": "stderr",
     "output_type": "stream",
     "text": [
      "[Parallel(n_jobs=-1)]: Done  10 tasks      | elapsed:    5.5s\n",
      "[Parallel(n_jobs=-1)]: Done  40 out of  40 | elapsed:  2.1min finished\n",
      "C:\\Users\\igorl\\Anaconda3\\lib\\site-packages\\sklearn\\utils\\validation.py:724: DataConversionWarning: A column-vector y was passed when a 1d array was expected. Please change the shape of y to (n_samples, ), for example using ravel().\n",
      "  y = column_or_1d(y, warn=True)\n"
     ]
    },
    {
     "data": {
      "text/plain": [
       "GridSearchCV(cv=5, error_score='raise-deprecating',\n",
       "             estimator=Pipeline(memory=None,\n",
       "                                steps=[('SVC',\n",
       "                                        SVC(C=1.0, cache_size=200,\n",
       "                                            class_weight=None, coef0=0.0,\n",
       "                                            decision_function_shape='ovr',\n",
       "                                            degree=3, gamma='auto_deprecated',\n",
       "                                            kernel='rbf', max_iter=-1,\n",
       "                                            probability=False,\n",
       "                                            random_state=None, shrinking=True,\n",
       "                                            tol=0.001, verbose=False))],\n",
       "                                verbose=False),\n",
       "             iid='warn', n_jobs=-1,\n",
       "             param_grid={'SVC__C': [1, 10, 100, 200],\n",
       "                         'SVC__kernel': ['rbf', 'linear']},\n",
       "             pre_dispatch='2*n_jobs', refit=True, return_train_score=False,\n",
       "             scoring=None, verbose=5)"
      ]
     },
     "execution_count": 39,
     "metadata": {},
     "output_type": "execute_result"
    }
   ],
   "source": [
    "#SVM\n",
    "from sklearn.pipeline import Pipeline\n",
    "from sklearn.svm import SVC\n",
    "from sklearn.model_selection import GridSearchCV\n",
    "\n",
    "steps = [ ('SVC', SVC())]\n",
    "param_grid = {'SVC__C': [1, 10, 100, 200], \n",
    "             'SVC__kernel' : ['rbf', 'linear']}\n",
    "\n",
    "estimator = Pipeline(steps=steps)\n",
    "cv = GridSearchCV(estimator, param_grid, verbose=5, n_jobs=-1, cv=5)\n",
    "cv.fit(x_train, y)"
   ]
  },
  {
   "cell_type": "code",
   "execution_count": 40,
   "metadata": {},
   "outputs": [
    {
     "name": "stdout",
     "output_type": "stream",
     "text": [
      "{'SVC__C': 1, 'SVC__kernel': 'rbf'} 0.8170594837261503\n"
     ]
    }
   ],
   "source": [
    "\n",
    "print(cv.best_params_, cv.best_score_)"
   ]
  },
  {
   "cell_type": "code",
   "execution_count": null,
   "metadata": {},
   "outputs": [],
   "source": []
  },
  {
   "cell_type": "code",
   "execution_count": null,
   "metadata": {},
   "outputs": [],
   "source": []
  },
  {
   "cell_type": "code",
   "execution_count": 20,
   "metadata": {},
   "outputs": [
    {
     "name": "stdout",
     "output_type": "stream",
     "text": [
      "   PassengerId  Pclass                                          Name     Sex  \\\n",
      "0          892       3                              Kelly, Mr. James    male   \n",
      "1          893       3              Wilkes, Mrs. James (Ellen Needs)  female   \n",
      "2          894       2                     Myles, Mr. Thomas Francis    male   \n",
      "3          895       3                              Wirz, Mr. Albert    male   \n",
      "4          896       3  Hirvonen, Mrs. Alexander (Helga E Lindqvist)  female   \n",
      "\n",
      "    Age  SibSp  Parch   Ticket     Fare Cabin Embarked  \n",
      "0  34.5      0      0   330911   7.8292   NaN        Q  \n",
      "1  47.0      1      0   363272   7.0000   NaN        S  \n",
      "2  62.0      0      0   240276   9.6875   NaN        Q  \n",
      "3  27.0      0      0   315154   8.6625   NaN        S  \n",
      "4  22.0      1      1  3101298  12.2875   NaN        S  \n"
     ]
    }
   ],
   "source": [
    "#TESTE\n",
    "teste_file = pd.read_csv('test.csv')\n",
    "print(teste_file.head())"
   ]
  },
  {
   "cell_type": "code",
   "execution_count": 41,
   "metadata": {},
   "outputs": [],
   "source": [
    "passengerID = pd.DataFrame(teste_file.PassengerId)\n",
    "x_test = teste_file[['Pclass', 'Sex', 'Age', 'SibSp', 'Parch', 'Embarked']]"
   ]
  },
  {
   "cell_type": "code",
   "execution_count": 42,
   "metadata": {},
   "outputs": [
    {
     "name": "stdout",
     "output_type": "stream",
     "text": [
      "   Pclass     Sex   Age  SibSp  Parch Embarked  family_number\n",
      "0       3    male  34.5      0      0        Q              1\n",
      "1       3  female  47.0      1      0        S              2\n",
      "2       2    male  62.0      0      0        Q              1\n",
      "3       3    male  27.0      0      0        S              1\n",
      "4       3  female  22.0      1      1        S              3\n",
      "   Pclass   Age  SibSp  Parch  family_number    0    1    2    3    4    5\n",
      "0       3  34.5      0      0              1  0.0  1.0  0.0  0.0  1.0  0.0\n",
      "1       3  47.0      1      0              2  1.0  0.0  0.0  0.0  0.0  1.0\n",
      "2       2  62.0      0      0              1  0.0  1.0  0.0  0.0  1.0  0.0\n",
      "3       3  27.0      0      0              1  0.0  1.0  0.0  0.0  0.0  1.0\n",
      "4       3  22.0      1      1              3  1.0  0.0  0.0  0.0  0.0  1.0\n"
     ]
    },
    {
     "name": "stderr",
     "output_type": "stream",
     "text": [
      "C:\\Users\\igorl\\Anaconda3\\lib\\site-packages\\pandas\\core\\frame.py:3035: SettingWithCopyWarning: \n",
      "A value is trying to be set on a copy of a slice from a DataFrame\n",
      "\n",
      "See the caveats in the documentation: http://pandas.pydata.org/pandas-docs/stable/indexing.html#indexing-view-versus-copy\n",
      "  downcast=downcast, **kwargs)\n",
      "C:\\Users\\igorl\\Anaconda3\\lib\\site-packages\\ipykernel_launcher.py:2: SettingWithCopyWarning: \n",
      "A value is trying to be set on a copy of a slice from a DataFrame.\n",
      "Try using .loc[row_indexer,col_indexer] = value instead\n",
      "\n",
      "See the caveats in the documentation: http://pandas.pydata.org/pandas-docs/stable/indexing.html#indexing-view-versus-copy\n",
      "  \n",
      "C:\\Users\\igorl\\Anaconda3\\lib\\site-packages\\ipykernel_launcher.py:5: SettingWithCopyWarning: \n",
      "A value is trying to be set on a copy of a slice from a DataFrame.\n",
      "Try using .loc[row_indexer,col_indexer] = value instead\n",
      "\n",
      "See the caveats in the documentation: http://pandas.pydata.org/pandas-docs/stable/indexing.html#indexing-view-versus-copy\n",
      "  \"\"\"\n",
      "C:\\Users\\igorl\\Anaconda3\\lib\\site-packages\\ipykernel_launcher.py:6: SettingWithCopyWarning: \n",
      "A value is trying to be set on a copy of a slice from a DataFrame.\n",
      "Try using .loc[row_indexer,col_indexer] = value instead\n",
      "\n",
      "See the caveats in the documentation: http://pandas.pydata.org/pandas-docs/stable/indexing.html#indexing-view-versus-copy\n",
      "  \n"
     ]
    }
   ],
   "source": [
    "x_test.fillna(0, inplace=True)\n",
    "x_test['family_number'] = x_test.SibSp + x_test.Parch + 1\n",
    "\n",
    "print(x_test.head())\n",
    "x_test['Sex'] = sex_label_encoder.transform(x_test['Sex'].astype(str))\n",
    "x_test['Embarked'] = embarked_label_encoder.transform(x_test['Embarked'].astype(str))\n",
    "\n",
    "test_cols_ohe = pd.DataFrame( hot_enconder.transform(x_test[['Sex', 'Embarked']] ))\n",
    "test_cols_ohe.index = x_test.index\n",
    "x_test = x_test.drop(['Sex', 'Embarked'], axis=1) \n",
    "x_test = pd.concat([x_test, test_cols_ohe], axis=1)\n",
    "\n",
    "print(x_test.head())\n",
    "x_test =  sc_X.transform(x_test)"
   ]
  },
  {
   "cell_type": "code",
   "execution_count": 45,
   "metadata": {},
   "outputs": [
    {
     "name": "stdout",
     "output_type": "stream",
     "text": [
      "   0\n",
      "0  0\n",
      "1  1\n",
      "2  0\n",
      "3  0\n",
      "4  1\n"
     ]
    }
   ],
   "source": [
    "\n",
    "pred = pd.DataFrame( cv.predict(sc_X.transform(x_test)))\n",
    "\n",
    "print(pred.head())"
   ]
  },
  {
   "cell_type": "code",
   "execution_count": 63,
   "metadata": {},
   "outputs": [
    {
     "name": "stdout",
     "output_type": "stream",
     "text": [
      "(418, 1)\n",
      "(418, 1)\n",
      "   PassengerId  Survived\n",
      "0          892         0\n",
      "1          893         1\n",
      "2          894         0\n",
      "3          895         0\n",
      "4          896         1 (418, 2)\n"
     ]
    }
   ],
   "source": [
    "print(passengerID.shape)\n",
    "print( pred.shape)\n",
    "\n",
    "submission = pd.concat([passengerID, pred], axis=1)\n",
    "submission.columns = ['PassengerId', 'Survived']\n",
    "\n",
    "print(submission.head(), submission.shape)\n",
    "\n",
    "submission.to_csv('submission.csv', index=False)"
   ]
  },
  {
   "cell_type": "code",
   "execution_count": null,
   "metadata": {},
   "outputs": [],
   "source": []
  }
 ],
 "metadata": {
  "kernelspec": {
   "display_name": "Python 3",
   "language": "python",
   "name": "python3"
  },
  "language_info": {
   "codemirror_mode": {
    "name": "ipython",
    "version": 3
   },
   "file_extension": ".py",
   "mimetype": "text/x-python",
   "name": "python",
   "nbconvert_exporter": "python",
   "pygments_lexer": "ipython3",
   "version": "3.6.4"
  }
 },
 "nbformat": 4,
 "nbformat_minor": 2
}
