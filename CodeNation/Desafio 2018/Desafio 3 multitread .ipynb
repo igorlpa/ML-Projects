{
 "cells": [
  {
   "cell_type": "code",
   "execution_count": 19,
   "metadata": {},
   "outputs": [],
   "source": [
    "\n",
    "import requests\n",
    "import pandas\n",
    "import numpy as np\n",
    "import json\n",
    "import matplotlib.pyplot as plt\n",
    "from sklearn.preprocessing import StandardScaler\n",
    "from sklearn.svm import SVC\n",
    "from sklearn.decomposition import PCA"
   ]
  },
  {
   "cell_type": "code",
   "execution_count": 42,
   "metadata": {},
   "outputs": [
    {
     "name": "stderr",
     "output_type": "stream",
     "text": [
      "C:\\Users\\igorl\\Anaconda3\\lib\\site-packages\\pandas\\core\\frame.py:3035: SettingWithCopyWarning: \n",
      "A value is trying to be set on a copy of a slice from a DataFrame\n",
      "\n",
      "See the caveats in the documentation: http://pandas.pydata.org/pandas-docs/stable/indexing.html#indexing-view-versus-copy\n",
      "  downcast=downcast, **kwargs)\n"
     ]
    },
    {
     "name": "stdout",
     "output_type": "stream",
     "text": [
      "(3306, 389)\n"
     ]
    }
   ],
   "source": [
    "#carrega os dados\n",
    "fileTrain = pandas.read_csv('train.csv')\n",
    "fileTest = pandas.read_csv('test3.csv')\n",
    "\n",
    "dataTrain = fileTrain[['NU_INSCRICAO', 'TX_RESPOSTAS_MT', 'CO_PROVA_MT']]\n",
    "dataTrain.fillna(value='.............................................', inplace=True)\n",
    "dataTest = fileTest[['NU_INSCRICAO', 'TX_RESPOSTAS_MT', 'CO_PROVA_MT']]\n",
    "dataTest.fillna(value='........................................', inplace=True)\n",
    "\n",
    "#trata os dados\n",
    "#train\n",
    "s_train = pandas.Series(dataTrain.iloc[:,1])\n",
    "respostas_train = s_train.str.extract('([A-Z.*])([A-Z.*])([A-Z.*])([A-Z.*])([A-Z.*])([A-Z.*])([A-Z.*])([A-Z.*])([A-Z.*])([A-Z.*])([A-Z.*])([A-Z.*])([A-Z.*])([A-Z.*])([A-Z.*])([A-Z.*])([A-Z.*])([A-Z.*])([A-Z.*])([A-Z.*])([A-Z.*])([A-Z.*])([A-Z.*])([A-Z.*])([A-Z.*])([A-Z.*])([A-Z.*])([A-Z.*])([A-Z.*])([A-Z.*])([A-Z.*])([A-Z.*])([A-Z.*])([A-Z.*])([A-Z.*])([A-Z.*])([A-Z.*])([A-Z.*])([A-Z.*])([A-Z.*])([A-Z.*])([A-Z.*])([A-Z.*])([A-Z.*])([A-Z.*])', expand=True)\n",
    "cat_train = fileTrain[['TP_ESCOLA','CO_PROVA_CN','CO_PROVA_CH','CO_PROVA_LC','CO_PROVA_MT','Q001','Q002','Q006', 'Q024','Q025','Q026','Q027','Q047']]\n",
    "dummies_train =  pandas.concat([cat_train, respostas_train.iloc[:, :40]], axis=1, ignore_index=True)\n",
    "\n",
    "#ytrain\n",
    "y = respostas_train.iloc[:, 40:].replace(['A', 'B', 'C', 'D', 'E', '.', '*'], [1,2,3,4,5, 6,6])\n",
    "y1_train = y.iloc[:,0]\n",
    "y2_train = y.iloc[:,1]\n",
    "y3_train = y.iloc[:,2]\n",
    "y4_train = y.iloc[:,3]\n",
    "y5_train = y.iloc[:,4]\n",
    "\n",
    "#test\n",
    "s_teste = pandas.Series(dataTest.iloc[:,1])\n",
    "respostas_test = s_teste.str.extract('([A-Z.*])([A-Z.*])([A-Z.*])([A-Z.*])([A-Z.*])([A-Z.*])([A-Z.*])([A-Z.*])([A-Z.*])([A-Z.*])([A-Z.*])([A-Z.*])([A-Z.*])([A-Z.*])([A-Z.*])([A-Z.*])([A-Z.*])([A-Z.*])([A-Z.*])([A-Z.*])([A-Z.*])([A-Z.*])([A-Z.*])([A-Z.*])([A-Z.*])([A-Z.*])([A-Z.*])([A-Z.*])([A-Z.*])([A-Z.*])([A-Z.*])([A-Z.*])([A-Z.*])([A-Z.*])([A-Z.*])([A-Z.*])([A-Z.*])([A-Z.*])([A-Z.*])([A-Z.*])', expand=True)\n",
    "cat_test = fileTest[['TP_ESCOLA','CO_PROVA_CN','CO_PROVA_CH','CO_PROVA_LC','CO_PROVA_MT','Q001','Q002','Q006', 'Q024','Q025','Q026','Q027','Q047']]\n",
    "dummies_test = pandas.concat([cat_test, respostas_test.iloc[:, :40]], axis=1, ignore_index=True)\n",
    "\n",
    "\n",
    "dummies = pandas.concat([dummies_train, dummies_test], axis=0, ignore_index=True)\n",
    "dummies = pandas.get_dummies(dummies)\n",
    "\n",
    "dummies_train = dummies.iloc[:13452,:]\n",
    "dummies_test = dummies.iloc[13452:,:]\n",
    "\n",
    "#more features\n",
    "features_train = fileTrain[['NU_IDADE', 'NU_NOTA_CN', 'NU_NOTA_CH', 'NU_NOTA_LC', 'NU_NOTA_REDACAO']]\n",
    "features_train.fillna(value=0, inplace=True)\n",
    "features_test = fileTest[['NU_IDADE', 'NU_NOTA_CN', 'NU_NOTA_CH', 'NU_NOTA_LC', 'NU_NOTA_REDACAO']]\n",
    "features_test.fillna(value=0, inplace=True)\n",
    "\n",
    "#final features\n",
    "x_train = pandas.concat([features_train, dummies_train], axis=1, ignore_index=True)\n",
    "features_test.reset_index(drop=True, inplace=True)\n",
    "dummies_test.reset_index(drop=True, inplace=True)\n",
    "x_test = pandas.concat([features_test, dummies_test], axis=1, ignore_index=True)\n",
    "\n",
    "\n",
    "\n",
    "\n",
    "#PRE-PROCESSING FEATURES\n",
    "\n",
    "sc_X = StandardScaler()\n",
    "x_train = sc_X.fit_transform(x_train)\n",
    "x_test = sc_X.transform(x_test)\n",
    "\n",
    "from sklearn.decomposition import PCA\n",
    "#pca = PCA(200) #100\n",
    "#pca.fit(x_train)\n",
    "#x_train = pca.transform(x_train)\n",
    "#x_test = pca.transform(x_test)\n",
    "\n",
    "print(x_test.shape)"
   ]
  },
  {
   "cell_type": "code",
   "execution_count": 43,
   "metadata": {},
   "outputs": [
    {
     "name": "stdout",
     "output_type": "stream",
     "text": [
      "Fitting 4 folds for each of 12 candidates, totalling 48 fits\n"
     ]
    },
    {
     "name": "stderr",
     "output_type": "stream",
     "text": [
      "[Parallel(n_jobs=-1)]: Done  10 tasks      | elapsed:  8.4min\n",
      "[Parallel(n_jobs=-1)]: Done  48 out of  48 | elapsed: 48.0min finished\n",
      "C:\\Users\\igorl\\Anaconda3\\lib\\site-packages\\sklearn\\feature_selection\\univariate_selection.py:298: RuntimeWarning: invalid value encountered in true_divide\n",
      "  corr /= X_norms\n",
      "C:\\Users\\igorl\\Anaconda3\\lib\\site-packages\\scipy\\stats\\_distn_infrastructure.py:879: RuntimeWarning: invalid value encountered in greater\n",
      "  return (self.a < x) & (x < self.b)\n",
      "C:\\Users\\igorl\\Anaconda3\\lib\\site-packages\\scipy\\stats\\_distn_infrastructure.py:879: RuntimeWarning: invalid value encountered in less\n",
      "  return (self.a < x) & (x < self.b)\n",
      "C:\\Users\\igorl\\Anaconda3\\lib\\site-packages\\scipy\\stats\\_distn_infrastructure.py:1821: RuntimeWarning: invalid value encountered in less_equal\n",
      "  cond2 = cond0 & (x <= self.a)\n"
     ]
    },
    {
     "name": "stdout",
     "output_type": "stream",
     "text": [
      "Fitting 4 folds for each of 12 candidates, totalling 48 fits\n"
     ]
    },
    {
     "name": "stderr",
     "output_type": "stream",
     "text": [
      "[Parallel(n_jobs=-1)]: Done  10 tasks      | elapsed:  8.2min\n",
      "[Parallel(n_jobs=-1)]: Done  48 out of  48 | elapsed: 46.9min finished\n",
      "C:\\Users\\igorl\\Anaconda3\\lib\\site-packages\\sklearn\\feature_selection\\univariate_selection.py:298: RuntimeWarning: invalid value encountered in true_divide\n",
      "  corr /= X_norms\n",
      "C:\\Users\\igorl\\Anaconda3\\lib\\site-packages\\scipy\\stats\\_distn_infrastructure.py:879: RuntimeWarning: invalid value encountered in greater\n",
      "  return (self.a < x) & (x < self.b)\n",
      "C:\\Users\\igorl\\Anaconda3\\lib\\site-packages\\scipy\\stats\\_distn_infrastructure.py:879: RuntimeWarning: invalid value encountered in less\n",
      "  return (self.a < x) & (x < self.b)\n",
      "C:\\Users\\igorl\\Anaconda3\\lib\\site-packages\\scipy\\stats\\_distn_infrastructure.py:1821: RuntimeWarning: invalid value encountered in less_equal\n",
      "  cond2 = cond0 & (x <= self.a)\n"
     ]
    },
    {
     "name": "stdout",
     "output_type": "stream",
     "text": [
      "Fitting 4 folds for each of 12 candidates, totalling 48 fits\n"
     ]
    },
    {
     "name": "stderr",
     "output_type": "stream",
     "text": [
      "[Parallel(n_jobs=-1)]: Done  10 tasks      | elapsed:  8.2min\n",
      "[Parallel(n_jobs=-1)]: Done  48 out of  48 | elapsed: 46.8min finished\n",
      "C:\\Users\\igorl\\Anaconda3\\lib\\site-packages\\sklearn\\feature_selection\\univariate_selection.py:298: RuntimeWarning: invalid value encountered in true_divide\n",
      "  corr /= X_norms\n",
      "C:\\Users\\igorl\\Anaconda3\\lib\\site-packages\\scipy\\stats\\_distn_infrastructure.py:879: RuntimeWarning: invalid value encountered in greater\n",
      "  return (self.a < x) & (x < self.b)\n",
      "C:\\Users\\igorl\\Anaconda3\\lib\\site-packages\\scipy\\stats\\_distn_infrastructure.py:879: RuntimeWarning: invalid value encountered in less\n",
      "  return (self.a < x) & (x < self.b)\n",
      "C:\\Users\\igorl\\Anaconda3\\lib\\site-packages\\scipy\\stats\\_distn_infrastructure.py:1821: RuntimeWarning: invalid value encountered in less_equal\n",
      "  cond2 = cond0 & (x <= self.a)\n"
     ]
    },
    {
     "name": "stdout",
     "output_type": "stream",
     "text": [
      "Fitting 4 folds for each of 12 candidates, totalling 48 fits\n"
     ]
    },
    {
     "name": "stderr",
     "output_type": "stream",
     "text": [
      "[Parallel(n_jobs=-1)]: Done  10 tasks      | elapsed:  8.3min\n",
      "[Parallel(n_jobs=-1)]: Done  48 out of  48 | elapsed: 47.7min finished\n",
      "C:\\Users\\igorl\\Anaconda3\\lib\\site-packages\\sklearn\\feature_selection\\univariate_selection.py:298: RuntimeWarning: invalid value encountered in true_divide\n",
      "  corr /= X_norms\n",
      "C:\\Users\\igorl\\Anaconda3\\lib\\site-packages\\scipy\\stats\\_distn_infrastructure.py:879: RuntimeWarning: invalid value encountered in greater\n",
      "  return (self.a < x) & (x < self.b)\n",
      "C:\\Users\\igorl\\Anaconda3\\lib\\site-packages\\scipy\\stats\\_distn_infrastructure.py:879: RuntimeWarning: invalid value encountered in less\n",
      "  return (self.a < x) & (x < self.b)\n",
      "C:\\Users\\igorl\\Anaconda3\\lib\\site-packages\\scipy\\stats\\_distn_infrastructure.py:1821: RuntimeWarning: invalid value encountered in less_equal\n",
      "  cond2 = cond0 & (x <= self.a)\n"
     ]
    },
    {
     "name": "stdout",
     "output_type": "stream",
     "text": [
      "Fitting 4 folds for each of 12 candidates, totalling 48 fits\n"
     ]
    },
    {
     "name": "stderr",
     "output_type": "stream",
     "text": [
      "[Parallel(n_jobs=-1)]: Done  10 tasks      | elapsed:  8.1min\n",
      "[Parallel(n_jobs=-1)]: Done  48 out of  48 | elapsed: 46.4min finished\n",
      "C:\\Users\\igorl\\Anaconda3\\lib\\site-packages\\sklearn\\feature_selection\\univariate_selection.py:298: RuntimeWarning: invalid value encountered in true_divide\n",
      "  corr /= X_norms\n",
      "C:\\Users\\igorl\\Anaconda3\\lib\\site-packages\\scipy\\stats\\_distn_infrastructure.py:879: RuntimeWarning: invalid value encountered in greater\n",
      "  return (self.a < x) & (x < self.b)\n",
      "C:\\Users\\igorl\\Anaconda3\\lib\\site-packages\\scipy\\stats\\_distn_infrastructure.py:879: RuntimeWarning: invalid value encountered in less\n",
      "  return (self.a < x) & (x < self.b)\n",
      "C:\\Users\\igorl\\Anaconda3\\lib\\site-packages\\scipy\\stats\\_distn_infrastructure.py:1821: RuntimeWarning: invalid value encountered in less_equal\n",
      "  cond2 = cond0 & (x <= self.a)\n"
     ]
    },
    {
     "data": {
      "text/plain": [
       "GridSearchCV(cv=4, error_score='raise',\n",
       "       estimator=Pipeline(memory=None,\n",
       "     steps=[('SKB', SelectKBest(k=10, score_func=<function f_regression at 0x000001FABD7E0840>)), ('SVC', SVC(C=1.0, cache_size=200, class_weight=None, coef0=0.0,\n",
       "  decision_function_shape='ovr', degree=3, gamma='auto', kernel='rbf',\n",
       "  max_iter=-1, probability=False, random_state=None, shrinking=True,\n",
       "  tol=0.001, verbose=False))]),\n",
       "       fit_params=None, iid=True, n_jobs=-1,\n",
       "       param_grid={'SKB__k': [200, 300, 350, 388], 'SVC__C': [10, 100, 1]},\n",
       "       pre_dispatch='2*n_jobs', refit=True, return_train_score='warn',\n",
       "       scoring=None, verbose=5)"
      ]
     },
     "execution_count": 43,
     "metadata": {},
     "output_type": "execute_result"
    }
   ],
   "source": [
    "# Fitting Kernel SVM to the Training set\n",
    "#classifier1 = SVC(kernel = 'rbf', C = 100)\n",
    "#classifier2 = SVC(kernel = 'rbf', C = 100)\n",
    "#classifier3 = SVC(kernel = 'rbf', C = 100)\n",
    "#classifier4 = SVC(kernel = 'rbf', C = 100)\n",
    "#classifier5 = SVC(kernel = 'rbf', C = 100)\n",
    "\n",
    "\n",
    "steps = [('SKB', SelectKBest(score_func= f_regression )), ('SVC', SVC(kernel='rbf'))]\n",
    "param_grid = {'SKB__k':[  200, 300, 350, 388],'SVC__C': [10, 100, 1]}\n",
    "estimator = Pipeline(steps=steps)\n",
    "classifier1 = GridSearchCV(estimator, param_grid, verbose=5, n_jobs=-1, cv=4)\n",
    "classifier2 = GridSearchCV(estimator, param_grid, verbose=5, n_jobs=-1, cv=4)\n",
    "classifier3 = GridSearchCV(estimator, param_grid, verbose=5, n_jobs=-1, cv=4)\n",
    "classifier4 = GridSearchCV(estimator, param_grid, verbose=5, n_jobs=-1, cv=4)\n",
    "classifier5 = GridSearchCV(estimator, param_grid, verbose=5, n_jobs=-1, cv=4)\n",
    "\n",
    "classifier1.fit(x_train, y1_train)\n",
    "classifier2.fit(x_train, y2_train)\n",
    "classifier3.fit(x_train, y3_train)\n",
    "classifier4.fit(x_train, y4_train)\n",
    "classifier5.fit(x_train, y5_train)"
   ]
  },
  {
   "cell_type": "code",
   "execution_count": 44,
   "metadata": {},
   "outputs": [
    {
     "name": "stdout",
     "output_type": "stream",
     "text": [
      "{'SKB__k': 200, 'SVC__C': 1} 0.46097234611953614\n",
      "{'SKB__k': 300, 'SVC__C': 1} 0.49628308058281295\n",
      "{'SKB__k': 300, 'SVC__C': 1} 0.5259440975319655\n",
      "{'SKB__k': 350, 'SVC__C': 1} 0.46662206363366043\n",
      "{'SKB__k': 300, 'SVC__C': 1} 0.4657300029735355\n"
     ]
    }
   ],
   "source": [
    "print(classifier1.best_params_, classifier1.best_score_)\n",
    "print(classifier2.best_params_, classifier2.best_score_)\n",
    "print(classifier3.best_params_, classifier3.best_score_)\n",
    "print(classifier4.best_params_, classifier4.best_score_)\n",
    "print(classifier5.best_params_, classifier5.best_score_)"
   ]
  },
  {
   "cell_type": "code",
   "execution_count": 45,
   "metadata": {},
   "outputs": [],
   "source": [
    "#PREDICTION\n",
    "#predict + convertendo as respostas em letras\n",
    "y1_test = pandas.DataFrame(data = classifier1.predict(x_test)).replace([1,2,3,4,5, 6], ['A', 'B', 'C', 'D', 'E','.'])\n",
    "y2_test = pandas.DataFrame(data = classifier2.predict(x_test)).replace([1,2,3,4,5, 6], ['A', 'B', 'C', 'D', 'E','.'])\n",
    "y3_test = pandas.DataFrame(data = classifier3.predict(x_test)).replace([1,2,3,4,5, 6], ['A', 'B', 'C', 'D', 'E','.'])\n",
    "y4_test = pandas.DataFrame(data = classifier4.predict(x_test)).replace([1,2,3,4,5, 6], ['A', 'B', 'C', 'D', 'E','.'])\n",
    "y5_test = pandas.DataFrame(data = classifier5.predict(x_test)).replace([1,2,3,4,5, 6], ['A', 'B', 'C', 'D', 'E','.'])\n",
    "\n",
    "#string final\n",
    "y_test =  y1_test.astype(str) + y2_test.astype(str) + y3_test.astype(str) + y4_test.astype(str)+ y5_test.astype(str)\n",
    "\n"
   ]
  },
  {
   "cell_type": "code",
   "execution_count": 46,
   "metadata": {},
   "outputs": [
    {
     "data": {
      "text/plain": [
       "'{\"score\":32.98457816752344}\\n'"
      ]
     },
     "execution_count": 46,
     "metadata": {},
     "output_type": "execute_result"
    }
   ],
   "source": [
    "#resposta em HTTP\n",
    "result =  pandas.concat([dataTest['NU_INSCRICAO'], y_test], axis=1, ignore_index=True)\n",
    "result.columns = ['NU_INSCRICAO', 'TX_RESPOSTAS_MT']\n",
    "\n",
    "answers = result.to_dict('records')\n",
    "response = {'token':'efb1548e92ce3b7afba62f4d7f594ffd1e743ff7', 'email':'igor@gmail.com', 'answer':answers}\n",
    "\n",
    "r = requests.post(\"https://api.codenation.com.br/v1/user/acceleration/data-science/challenge/enem-3/submit\", data = json.dumps(response))\n",
    "\n",
    "\n",
    "\n",
    "\n",
    "r.text"
   ]
  },
  {
   "cell_type": "code",
   "execution_count": null,
   "metadata": {},
   "outputs": [],
   "source": []
  }
 ],
 "metadata": {
  "kernelspec": {
   "display_name": "Python 3",
   "language": "python",
   "name": "python3"
  },
  "language_info": {
   "codemirror_mode": {
    "name": "ipython",
    "version": 3
   },
   "file_extension": ".py",
   "mimetype": "text/x-python",
   "name": "python",
   "nbconvert_exporter": "python",
   "pygments_lexer": "ipython3",
   "version": "3.6.4"
  }
 },
 "nbformat": 4,
 "nbformat_minor": 2
}
