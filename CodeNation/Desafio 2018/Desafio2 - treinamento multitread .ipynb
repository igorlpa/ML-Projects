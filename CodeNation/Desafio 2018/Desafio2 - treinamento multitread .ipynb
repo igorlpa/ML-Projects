{
 "cells": [
  {
   "cell_type": "code",
   "execution_count": 1,
   "metadata": {},
   "outputs": [],
   "source": [
    "import requests\n",
    "from joblib import Parallel, delayed\n",
    "import pandas\n",
    "import numpy as np\n",
    "import json\n",
    "import matplotlib.pyplot as plt\n",
    "from sklearn.pipeline import Pipeline\n",
    "from sklearn.model_selection import GridSearchCV\n",
    "from sklearn.feature_selection import SelectKBest\n",
    "from sklearn.feature_selection import f_regression\n",
    "from sklearn.svm import SVR\n",
    "from sklearn.ensemble import RandomForestRegressor\n",
    "from sklearn.linear_model import LinearRegression\n",
    "from sklearn.preprocessing import StandardScaler\n"
   ]
  },
  {
   "cell_type": "code",
   "execution_count": 2,
   "metadata": {},
   "outputs": [
    {
     "name": "stderr",
     "output_type": "stream",
     "text": [
      "C:\\Users\\igorl\\Anaconda3\\lib\\site-packages\\pandas\\core\\frame.py:3035: SettingWithCopyWarning: \n",
      "A value is trying to be set on a copy of a slice from a DataFrame\n",
      "\n",
      "See the caveats in the documentation: http://pandas.pydata.org/pandas-docs/stable/indexing.html#indexing-view-versus-copy\n",
      "  downcast=downcast, **kwargs)\n"
     ]
    }
   ],
   "source": [
    "#READ DATA\n",
    "features      = ['NU_INSCRICAO', 'NU_NOTA_CN', 'NU_NOTA_CH', 'NU_NOTA_LC', 'NU_NOTA_REDACAO', 'NU_NOTA_COMP1','NU_NOTA_COMP2','NU_NOTA_COMP3', 'NU_NOTA_COMP4', 'NU_NOTA_COMP5', 'NU_NOTA_MT']\n",
    "features_test = ['NU_INSCRICAO', 'NU_NOTA_CN', 'NU_NOTA_CH', 'NU_NOTA_LC', 'NU_NOTA_REDACAO', 'NU_NOTA_COMP1','NU_NOTA_COMP2','NU_NOTA_COMP3', 'NU_NOTA_COMP4', 'NU_NOTA_COMP5']\n",
    "features_cat = ['TP_ESCOLA','CO_PROVA_CN','CO_PROVA_CH','CO_PROVA_LC','CO_PROVA_MT','Q001','Q002','Q006','Q024','Q025','Q026','Q027','Q047']\n",
    "\n",
    "\n",
    "#TRAIN\n",
    "fileTrain = pandas.read_csv('train.csv')\n",
    "\n",
    "dataTrain = fileTrain[features]\n",
    "dataTrain.fillna(value=0, inplace=True)\n",
    "x_train = dataTrain.iloc[:,1:-1].values\n",
    "y_train = dataTrain.iloc[:, -1].values\n",
    "\n",
    "\n",
    "categorical_data = fileTrain[features_cat]\n",
    "categorical_data.fillna(value=0, inplace=True)\n",
    "\n",
    "#TESTE\n",
    "fileTest = pandas.read_csv('test2.csv')\n",
    "dataTest = fileTest[features_test]\n",
    "dataTest.fillna(value=0, inplace=True)\n",
    "x_test = dataTest.iloc[:,1:].values\n",
    "\n",
    "categorical_data_test = fileTest[features_cat]\n",
    "categorical_data_test.fillna(value=0, inplace=True)\n",
    "\n",
    "\n",
    "#dummies\n",
    "cat =  pandas.concat([categorical_data, categorical_data_test], axis=0, ignore_index=True)\n",
    "dummies = pandas.get_dummies(cat, drop_first=True)\n",
    "\n",
    "dummies_train = dummies.iloc[:13452,:]\n",
    "dummies_test = dummies.iloc[13452:,:]\n",
    "\n",
    "x_train = np.append(arr = x_train, values = dummies_train.values, axis =1)\n",
    "x_test = np.append(arr = x_test, values = dummies_test.values, axis =1)"
   ]
  },
  {
   "cell_type": "code",
   "execution_count": 3,
   "metadata": {},
   "outputs": [
    {
     "name": "stdout",
     "output_type": "stream",
     "text": [
      "teste\n",
      "Fitting 10 folds for each of 42 candidates, totalling 420 fits\n"
     ]
    },
    {
     "name": "stderr",
     "output_type": "stream",
     "text": [
      "[Parallel(n_jobs=-1)]: Done  10 tasks      | elapsed:   48.8s\n",
      "[Parallel(n_jobs=-1)]: Done  64 tasks      | elapsed:  4.9min\n",
      "[Parallel(n_jobs=-1)]: Done 154 tasks      | elapsed: 12.0min\n",
      "[Parallel(n_jobs=-1)]: Done 280 tasks      | elapsed: 23.3min\n",
      "[Parallel(n_jobs=-1)]: Done 420 out of 420 | elapsed: 39.7min finished\n"
     ]
    },
    {
     "name": "stdout",
     "output_type": "stream",
     "text": [
      "{'SKB__k': 6, 'SVR__C': 1500} 0.9155800776513101\n"
     ]
    }
   ],
   "source": [
    "sc_X = StandardScaler()\n",
    "X = sc_X.fit_transform(x_train)\n",
    "\n",
    "\n",
    "steps = [('SKB', SelectKBest(score_func= f_regression )),  ('SVR', SVR(kernel='rbf'))]\n",
    "param_grid = {'SVR__C': [100, 500, 600, 1000, 1500, 2000], 'SKB__k':[2,3,4,5,6,7,8]}\n",
    "\n",
    "print(\"teste\")\n",
    "estimator = Pipeline(steps=steps)\n",
    "cv = GridSearchCV(estimator, param_grid, verbose=5, n_jobs=-1, cv=10)\n",
    "cv.fit(X, y_train)\n",
    "\n",
    "print(cv.best_params_, cv.best_score_)"
   ]
  },
  {
   "cell_type": "code",
   "execution_count": 4,
   "metadata": {},
   "outputs": [],
   "source": [
    "\n",
    "pred = cv.predict(sc_X.transform(x_test))\n",
    "pred_DF = pandas.DataFrame(data=pred)\n",
    "pred_DF[pred_DF<0] = 0\n",
    "\n",
    "dataTest.reset_index(drop=True, inplace=True)\n",
    "\n",
    "result =  pandas.concat([dataTest['NU_INSCRICAO'], pred_DF], axis=1, ignore_index=True)\n",
    "result.columns = ['NU_INSCRICAO', 'NU_NOTA_MT']\n",
    "answers = result.to_dict('records')\n",
    "response = {'token':'efb1548e92ce3b7afba62f4d7f594ffd1e743ff7', 'email':'igor@gmail.com', 'answer':answers}\n"
   ]
  },
  {
   "cell_type": "code",
   "execution_count": null,
   "metadata": {},
   "outputs": [],
   "source": [
    "r = requests.post(\"https://api.codenation.com.br/v1/user/acceleration/data-science/challenge/enem-2/submit\", data = json.dumps(response))\n",
    "\n",
    "r.text"
   ]
  },
  {
   "cell_type": "code",
   "execution_count": null,
   "metadata": {},
   "outputs": [],
   "source": []
  }
 ],
 "metadata": {
  "kernelspec": {
   "display_name": "Python 3",
   "language": "python",
   "name": "python3"
  },
  "language_info": {
   "codemirror_mode": {
    "name": "ipython",
    "version": 3
   },
   "file_extension": ".py",
   "mimetype": "text/x-python",
   "name": "python",
   "nbconvert_exporter": "python",
   "pygments_lexer": "ipython3",
   "version": "3.6.4"
  }
 },
 "nbformat": 4,
 "nbformat_minor": 2
}
