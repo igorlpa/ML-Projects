{
 "cells": [
  {
   "cell_type": "code",
   "execution_count": 1,
   "metadata": {},
   "outputs": [],
   "source": [
    "from joblib import Parallel, delayed\n",
    "import pandas\n",
    "import numpy as np\n",
    "import json\n",
    "import matplotlib.pyplot as plt\n",
    "from sklearn.pipeline import Pipeline\n",
    "from sklearn.model_selection import GridSearchCV\n",
    "from sklearn.feature_selection import SelectKBest\n",
    "from sklearn.feature_selection import f_regression\n",
    "from sklearn.svm import SVR\n",
    "from sklearn.ensemble import RandomForestRegressor\n",
    "from sklearn.linear_model import LinearRegression\n",
    "from sklearn.preprocessing import StandardScaler"
   ]
  },
  {
   "cell_type": "code",
   "execution_count": 2,
   "metadata": {},
   "outputs": [],
   "source": [
    "fileTrain = pandas.read_csv('train.csv')\n",
    "fileTest = pandas.read_csv('test.csv')"
   ]
  },
  {
   "cell_type": "code",
   "execution_count": 3,
   "metadata": {},
   "outputs": [],
   "source": [
    "\n",
    "features = ['NU_NOTA_CN', 'NU_NOTA_CH', 'NU_NOTA_LC', 'NU_NOTA_REDACAO']\n",
    "features_cat = ['CO_PROVA_CN','CO_PROVA_CH','CO_PROVA_LC','CO_PROVA_MT']"
   ]
  },
  {
   "cell_type": "code",
   "execution_count": 4,
   "metadata": {},
   "outputs": [
    {
     "name": "stderr",
     "output_type": "stream",
     "text": [
      "C:\\Users\\igorl\\Anaconda3\\lib\\site-packages\\pandas\\core\\frame.py:3035: SettingWithCopyWarning: \n",
      "A value is trying to be set on a copy of a slice from a DataFrame\n",
      "\n",
      "See the caveats in the documentation: http://pandas.pydata.org/pandas-docs/stable/indexing.html#indexing-view-versus-copy\n",
      "  downcast=downcast, **kwargs)\n"
     ]
    }
   ],
   "source": [
    "#TRAIN\n",
    "dataTrain = fileTrain[features]\n",
    "dataTrain.fillna(value=0, inplace=True)\n",
    "x_train = dataTrain.iloc[:,:].values\n",
    "y_train = fileTrain[['NU_NOTA_MT']].fillna(value=0)\n",
    "\n",
    "categorical_train = fileTrain[features_cat]\n",
    "categorical_train.fillna(value=0, inplace=True)\n",
    "\n",
    "   "
   ]
  },
  {
   "cell_type": "code",
   "execution_count": 5,
   "metadata": {},
   "outputs": [
    {
     "name": "stderr",
     "output_type": "stream",
     "text": [
      "C:\\Users\\igorl\\Anaconda3\\lib\\site-packages\\pandas\\core\\frame.py:3035: SettingWithCopyWarning: \n",
      "A value is trying to be set on a copy of a slice from a DataFrame\n",
      "\n",
      "See the caveats in the documentation: http://pandas.pydata.org/pandas-docs/stable/indexing.html#indexing-view-versus-copy\n",
      "  downcast=downcast, **kwargs)\n"
     ]
    }
   ],
   "source": [
    "\n",
    "#TESTE\n",
    "dataTest = fileTest[features]\n",
    "dataTest.fillna(value=0, inplace=True)\n",
    "x_test = dataTest.iloc[:,:].values\n",
    "\n",
    "categorical_test = fileTest[features_cat]\n",
    "categorical_test.fillna(value=0, inplace=True)"
   ]
  },
  {
   "cell_type": "code",
   "execution_count": 6,
   "metadata": {},
   "outputs": [],
   "source": [
    "#dummies\n",
    "cat =  pandas.concat([categorical_train, categorical_test], axis=0, ignore_index=True)\n",
    "dummies = pandas.get_dummies(cat, drop_first=True,dummy_na=True)\n",
    "\n",
    "dummies_train = dummies.iloc[:categorical_train.shape[0],:]\n",
    "dummies_test = dummies.iloc[categorical_train.shape[0]:,:] \n",
    "\n",
    "\n",
    "#jutando as features\n",
    "x_train = np.append(arr = x_train, values = dummies_train.values, axis =1)\n",
    "x_test = np.append(arr = x_test, values = dummies_test.values, axis =1)"
   ]
  },
  {
   "cell_type": "code",
   "execution_count": 7,
   "metadata": {},
   "outputs": [],
   "source": [
    "#SCALING + REGRESSOR\n",
    "from sklearn.preprocessing import StandardScaler\n",
    "sc_X = StandardScaler()\n",
    "X = sc_X.fit_transform(x_train)\n"
   ]
  },
  {
   "cell_type": "code",
   "execution_count": 8,
   "metadata": {},
   "outputs": [
    {
     "name": "stdout",
     "output_type": "stream",
     "text": [
      "Fitting 10 folds for each of 4 candidates, totalling 40 fits\n"
     ]
    },
    {
     "name": "stderr",
     "output_type": "stream",
     "text": [
      "[Parallel(n_jobs=-1)]: Done  10 tasks      | elapsed:  2.1min\n",
      "[Parallel(n_jobs=-1)]: Done  40 out of  40 | elapsed:  7.0min finished\n",
      "C:\\Users\\igorl\\Anaconda3\\lib\\site-packages\\sklearn\\utils\\validation.py:578: DataConversionWarning: A column-vector y was passed when a 1d array was expected. Please change the shape of y to (n_samples, ), for example using ravel().\n",
      "  y = column_or_1d(y, warn=True)\n"
     ]
    },
    {
     "name": "stdout",
     "output_type": "stream",
     "text": [
      "{'SVR__C': 400} 0.9157625711634626\n"
     ]
    }
   ],
   "source": [
    "steps = [ ('SVR', SVR(kernel='rbf'))]\n",
    "param_grid = {'SVR__C': [10, 100, 200, 400]}\n",
    "\n",
    "estimator = Pipeline(steps=steps)\n",
    "cv = GridSearchCV(estimator, param_grid, verbose=5, n_jobs=-1, cv=10)\n",
    "cv.fit(X, y_train)\n",
    "\n",
    "print(cv.best_params_, cv.best_score_)"
   ]
  },
  {
   "cell_type": "code",
   "execution_count": null,
   "metadata": {},
   "outputs": [],
   "source": [
    "\n",
    "{'SVR__C': 400} 0.9158416126858605"
   ]
  }
 ],
 "metadata": {
  "kernelspec": {
   "display_name": "Python 3",
   "language": "python",
   "name": "python3"
  },
  "language_info": {
   "codemirror_mode": {
    "name": "ipython",
    "version": 3
   },
   "file_extension": ".py",
   "mimetype": "text/x-python",
   "name": "python",
   "nbconvert_exporter": "python",
   "pygments_lexer": "ipython3",
   "version": "3.6.4"
  }
 },
 "nbformat": 4,
 "nbformat_minor": 2
}
